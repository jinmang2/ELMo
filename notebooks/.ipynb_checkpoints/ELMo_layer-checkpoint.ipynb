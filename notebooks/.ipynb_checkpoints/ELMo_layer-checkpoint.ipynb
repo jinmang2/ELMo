{
 "cells": [
  {
   "cell_type": "code",
   "execution_count": 1,
   "metadata": {},
   "outputs": [],
   "source": [
    "import logging\n",
    "import math\n",
    "import torch\n",
    "import torch.nn as nn\n",
    "import torch.nn.functional as F\n",
    "from torch.autograd import Variable\n",
    "\n",
    "logging.basicConfig(level=logging.INFO, format='%(asctime)-15s %(levelname)s: %(message)s')"
   ]
  },
  {
   "cell_type": "code",
   "execution_count": 2,
   "metadata": {},
   "outputs": [],
   "source": [
    "class SoftmaxLayer(nn.Module):\n",
    "    \n",
    "    \"\"\"Naive softmax-layer\"\"\"\n",
    "    \n",
    "    def __init__(self, output_dim, n_class):\n",
    "        super(SoftmaxLayer, self).__init__()\n",
    "        self.hidden2tag = nn.Linear(output_dim, n_class)\n",
    "        self.criterion = nn.CrossEntropyLoss(size_average=False)\n",
    "    \n",
    "    def forward(self, x, y):\n",
    "        tag_scores = self.hidden2tag(x)\n",
    "        return self.criterion(tag_scores, y)"
   ]
  },
  {
   "cell_type": "code",
   "execution_count": 3,
   "metadata": {},
   "outputs": [],
   "source": [
    "class SampledsoftmaxLayer(nn.Module):\n",
    "    def __init__(self, output_dim, n_class, n_samples, use_cuda):\n",
    "        super(SampledsoftmaxLayer, self).__init__()\n",
    "        self.n_samples = n_samples\n",
    "        self.n_class = n_class\n",
    "        self.use_cuda = use_cuda\n",
    "        self.criterion = nn.CrossEntropyLoss(size_average=False)\n",
    "        self.negative_samples = []\n",
    "        self.word_to_column = {0: 0}\n",
    "\n",
    "        self.all_word = []\n",
    "        self.all_word_to_column = {0: 0}\n",
    "\n",
    "        self.column_emb = nn.Embedding(n_class, output_dim)\n",
    "        self.column_emb.weight.data.uniform_(-0.25, 0.25)\n",
    "\n",
    "        self.column_bias = nn.Embedding(n_class, 1)\n",
    "        self.column_bias.weight.data.uniform_(-0.25, 0.25)\n",
    "\n",
    "        self.oov_column = nn.Parameter(torch.Tensor(output_dim, 1))\n",
    "        self.oov_column.data.uniform_(-0.25, 0.25)\n",
    "        \n",
    "    def forward(self, x, y):\n",
    "        if self.training:\n",
    "            for i in range(y.size(0)):\n",
    "                y[i] = self.word_to_column.get(y[i].tolist())\n",
    "            samples = torch.LongTensor(len(self.word_to_column)).fill_(0)\n",
    "            for word in self.negative_samples:\n",
    "                samples[self.word_to_column[word]] = word\n",
    "        else:\n",
    "            for i in range(y.size(0)):\n",
    "                y[i] = self.all_word_to_column.get(y[i].tolist(), 0)\n",
    "            samples = torch.LongTensor(len(self.all_word_to_column)).fill_(0)\n",
    "            for word in self.all_word:\n",
    "                samples[self.all_word_to_column[word]] = word\n",
    "        \n",
    "        if self.use_cuda:\n",
    "            samples = samples.cuda()\n",
    "            \n",
    "        tag_scores = (x.matmul(self.embedding_matrix)).view(y.size(0), -1) + \\\n",
    "                     (self.column_bias.forward(samples)).view(1, -1)\n",
    "        return self.criterion(tag_scores, y)\n",
    "    "
   ]
  },
  {
   "cell_type": "code",
   "execution_count": 4,
   "metadata": {},
   "outputs": [
    {
     "name": "stderr",
     "output_type": "stream",
     "text": [
      "C:\\Users\\jinma\\AppData\\Local\\Continuum\\anaconda3\\envs\\basic\\lib\\site-packages\\torch\\nn\\_reduction.py:43: UserWarning: size_average and reduce args will be deprecated, please use reduction='sum' instead.\n",
      "  warnings.warn(warning.format(ret))\n"
     ]
    }
   ],
   "source": [
    "a = SampledsoftmaxLayer(1,1,1,1)"
   ]
  },
  {
   "cell_type": "code",
   "execution_count": null,
   "metadata": {},
   "outputs": [],
   "source": []
  }
 ],
 "metadata": {
  "kernelspec": {
   "display_name": "basic",
   "language": "python",
   "name": "basic"
  },
  "language_info": {
   "codemirror_mode": {
    "name": "ipython",
    "version": 3
   },
   "file_extension": ".py",
   "mimetype": "text/x-python",
   "name": "python",
   "nbconvert_exporter": "python",
   "pygments_lexer": "ipython3",
   "version": "3.6.9"
  }
 },
 "nbformat": 4,
 "nbformat_minor": 2
}
