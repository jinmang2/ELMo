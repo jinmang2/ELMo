{
 "cells": [
  {
   "cell_type": "code",
   "execution_count": 4,
   "metadata": {},
   "outputs": [
    {
     "data": {
      "text/plain": [
       "b'\\xe3\\x84\\xb1'"
      ]
     },
     "execution_count": 4,
     "metadata": {},
     "output_type": "execute_result"
    }
   ],
   "source": [
    "'ㄱ'.encode('utf-8', 'ignore')"
   ]
  },
  {
   "cell_type": "code",
   "execution_count": 8,
   "metadata": {},
   "outputs": [
    {
     "data": {
      "text/plain": [
       "b's'"
      ]
     },
     "execution_count": 8,
     "metadata": {},
     "output_type": "execute_result"
    }
   ],
   "source": [
    "'s'.encode('utf-8', 'ignore')"
   ]
  },
  {
   "cell_type": "code",
   "execution_count": 12,
   "metadata": {},
   "outputs": [
    {
     "name": "stdout",
     "output_type": "stream",
     "text": [
      "Δ\n"
     ]
    }
   ],
   "source": [
    "print(\"\\N{GREEK CAPITAL LETTER DELTA}\")"
   ]
  },
  {
   "cell_type": "code",
   "execution_count": 13,
   "metadata": {},
   "outputs": [
    {
     "data": {
      "text/plain": [
       "'Δ'"
      ]
     },
     "execution_count": 13,
     "metadata": {},
     "output_type": "execute_result"
    }
   ],
   "source": [
    "\"\\u0394\""
   ]
  },
  {
   "cell_type": "code",
   "execution_count": 16,
   "metadata": {},
   "outputs": [
    {
     "data": {
      "text/plain": [
       "'Δ'"
      ]
     },
     "execution_count": 16,
     "metadata": {},
     "output_type": "execute_result"
    }
   ],
   "source": [
    "\"\\U00000394\""
   ]
  },
  {
   "cell_type": "code",
   "execution_count": 18,
   "metadata": {},
   "outputs": [
    {
     "data": {
      "text/plain": [
       "12593"
      ]
     },
     "execution_count": 18,
     "metadata": {},
     "output_type": "execute_result"
    }
   ],
   "source": [
    "ord('ㄱ')"
   ]
  },
  {
   "cell_type": "code",
   "execution_count": 19,
   "metadata": {},
   "outputs": [
    {
     "data": {
      "text/plain": [
       "'ㄱ'"
      ]
     },
     "execution_count": 19,
     "metadata": {},
     "output_type": "execute_result"
    }
   ],
   "source": [
    "chr(12593)"
   ]
  },
  {
   "cell_type": "code",
   "execution_count": 21,
   "metadata": {},
   "outputs": [
    {
     "data": {
      "text/plain": [
       "[97, 172, 4660, 8364, 32768]"
      ]
     },
     "execution_count": 21,
     "metadata": {},
     "output_type": "execute_result"
    }
   ],
   "source": [
    "s = \"a\\xac\\u1234\\u20ac\\U00008000\"\n",
    "[ord(c) for c in s]"
   ]
  },
  {
   "cell_type": "code",
   "execution_count": 24,
   "metadata": {},
   "outputs": [
    {
     "name": "stdout",
     "output_type": "stream",
     "text": [
      "233\n"
     ]
    }
   ],
   "source": [
    "u = 'abcdé'\n",
    "print(ord(u[-1]))"
   ]
  },
  {
   "cell_type": "code",
   "execution_count": 25,
   "metadata": {},
   "outputs": [
    {
     "name": "stdout",
     "output_type": "stream",
     "text": [
      "0 00e9 Ll LATIN SMALL LETTER E WITH ACUTE\n",
      "1 0bf2 No TAMIL NUMBER ONE THOUSAND\n",
      "2 0f84 Mn TIBETAN MARK HALANTA\n",
      "3 1770 Lo TAGBANWA LETTER SA\n",
      "4 33af So SQUARE RAD OVER S SQUARED\n",
      "1000.0\n"
     ]
    }
   ],
   "source": [
    "import unicodedata\n",
    "\n",
    "u = chr(233) + chr(0x0bf2) + chr(3972) + chr(6000) + chr(13231)\n",
    "\n",
    "for i, c in enumerate(u):\n",
    "    print(i, '%04x' % ord(c), unicodedata.category(c), end=\" \")\n",
    "    print(unicodedata.name(c))\n",
    "\n",
    "# Get numeric value of second character\n",
    "print(unicodedata.numeric(u[1]))"
   ]
  },
  {
   "cell_type": "code",
   "execution_count": 26,
   "metadata": {},
   "outputs": [
    {
     "data": {
      "text/plain": [
       "'gürzenichstrasse'"
      ]
     },
     "execution_count": 26,
     "metadata": {},
     "output_type": "execute_result"
    }
   ],
   "source": [
    "street = 'Gürzenichstraße'\n",
    "street.casefold() # case-insensitive comparision"
   ]
  },
  {
   "cell_type": "code",
   "execution_count": 27,
   "metadata": {},
   "outputs": [
    {
     "name": "stdout",
     "output_type": "stream",
     "text": [
      "length of first string= 1\n",
      "length of second string= 2\n",
      "True\n"
     ]
    }
   ],
   "source": [
    "import unicodedata\n",
    "\n",
    "def compare_strs(s1, s2):\n",
    "    def NFD(s):\n",
    "        return unicodedata.normalize('NFD', s)\n",
    "\n",
    "    return NFD(s1) == NFD(s2)\n",
    "\n",
    "single_char = 'ê'\n",
    "multiple_chars = '\\N{LATIN SMALL LETTER E}\\N{COMBINING CIRCUMFLEX ACCENT}'\n",
    "print('length of first string=', len(single_char))\n",
    "print('length of second string=', len(multiple_chars))\n",
    "print(compare_strs(single_char, multiple_chars))"
   ]
  },
  {
   "cell_type": "code",
   "execution_count": 28,
   "metadata": {},
   "outputs": [
    {
     "name": "stdout",
     "output_type": "stream",
     "text": [
      "True\n"
     ]
    }
   ],
   "source": [
    "import unicodedata\n",
    "\n",
    "def compare_caseless(s1, s2):\n",
    "    def NFD(s):\n",
    "        return unicodedata.normalize('NFD', s)\n",
    "\n",
    "    return NFD(NFD(s1).casefold()) == NFD(NFD(s2).casefold())\n",
    "\n",
    "# Example usage\n",
    "single_char = 'ê'\n",
    "multiple_chars = '\\N{LATIN CAPITAL LETTER E}\\N{COMBINING CIRCUMFLEX ACCENT}'\n",
    "\n",
    "print(compare_caseless(single_char, multiple_chars))"
   ]
  },
  {
   "cell_type": "code",
   "execution_count": 31,
   "metadata": {},
   "outputs": [
    {
     "name": "stdout",
     "output_type": "stream",
     "text": [
      "[b'.ipynb_checkpoints', b'200330_studying.ipynb', b'ELMo_biLM_layer.ipynb', b'ELMo_char-CNN_layer.ipynb', b'ELMo_layer.ipynb', b'ELMO_tokenize_and_create_batches.ipynb', b'filename\\xe4\\x94\\x80abc', b'mask[0].pt', b'mask[1].pt', b'mask[2].pt', b'python_overrides.ipynb', b'testing_ELMo_biLM_layer.ipynb', b'token_embedding.pt', b'Untitled.ipynb']\n",
      "['.ipynb_checkpoints', '200330_studying.ipynb', 'ELMo_biLM_layer.ipynb', 'ELMo_char-CNN_layer.ipynb', 'ELMo_layer.ipynb', 'ELMO_tokenize_and_create_batches.ipynb', 'filename䔀abc', 'mask[0].pt', 'mask[1].pt', 'mask[2].pt', 'python_overrides.ipynb', 'testing_ELMo_biLM_layer.ipynb', 'token_embedding.pt', 'Untitled.ipynb']\n"
     ]
    }
   ],
   "source": [
    "fn = 'filename\\u4500abc'\n",
    "f = open(fn, 'w')\n",
    "f.close()\n",
    "\n",
    "import os\n",
    "print(os.listdir(b'.'))\n",
    "print(os.listdir('.'))"
   ]
  },
  {
   "cell_type": "code",
   "execution_count": 32,
   "metadata": {},
   "outputs": [],
   "source": [
    "import codecs\n",
    "\n",
    "new_f = codecs.StreamRecoder(f,\n",
    "    # en/decoder: used by read() to encode its results and\n",
    "    # by write() to decode its input.\n",
    "    codecs.getencoder('utf-8'), codecs.getdecoder('utf-8'),\n",
    "\n",
    "    # reader/writer: used to read and write to the stream.\n",
    "    codecs.getreader('latin-1'), codecs.getwriter('latin-1') )"
   ]
  },
  {
   "cell_type": "code",
   "execution_count": 33,
   "metadata": {},
   "outputs": [
    {
     "data": {
      "text/plain": [
       "<codecs.StreamRecoder at 0x1bd25237438>"
      ]
     },
     "execution_count": 33,
     "metadata": {},
     "output_type": "execute_result"
    }
   ],
   "source": [
    "new_f"
   ]
  },
  {
   "cell_type": "code",
   "execution_count": null,
   "metadata": {},
   "outputs": [],
   "source": []
  }
 ],
 "metadata": {
  "kernelspec": {
   "display_name": "basic",
   "language": "python",
   "name": "basic"
  },
  "language_info": {
   "codemirror_mode": {
    "name": "ipython",
    "version": 3
   },
   "file_extension": ".py",
   "mimetype": "text/x-python",
   "name": "python",
   "nbconvert_exporter": "python",
   "pygments_lexer": "ipython3",
   "version": "3.6.9"
  }
 },
 "nbformat": 4,
 "nbformat_minor": 2
}
