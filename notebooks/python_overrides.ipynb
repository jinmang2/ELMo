{
 "cells": [
  {
   "cell_type": "code",
   "execution_count": null,
   "metadata": {},
   "outputs": [],
   "source": [
    "!pip install overrides"
   ]
  },
  {
   "cell_type": "code",
   "execution_count": 1,
   "metadata": {},
   "outputs": [],
   "source": [
    "import json\n",
    "import logging\n",
    "import warnings \n",
    "from typing import Any, Dict, List, Union\n",
    "\n",
    "import numpy as np\n",
    "import torch"
   ]
  },
  {
   "cell_type": "code",
   "execution_count": 10,
   "metadata": {},
   "outputs": [
    {
     "ename": "AssertionError",
     "evalue": "Method method overrides but does not have @overrides decorator",
     "output_type": "error",
     "traceback": [
      "\u001b[1;31m---------------------------------------------------------------------------\u001b[0m",
      "\u001b[1;31mAssertionError\u001b[0m                            Traceback (most recent call last)",
      "\u001b[1;32m<ipython-input-10-15ca8bf5eb28>\u001b[0m in \u001b[0;36m<module>\u001b[1;34m\u001b[0m\n\u001b[0;32m     30\u001b[0m \u001b[1;33m\u001b[0m\u001b[0m\n\u001b[0;32m     31\u001b[0m \u001b[1;31m# THIS FAILS\u001b[0m\u001b[1;33m\u001b[0m\u001b[1;33m\u001b[0m\u001b[1;33m\u001b[0m\u001b[0m\n\u001b[1;32m---> 32\u001b[1;33m \u001b[1;32mclass\u001b[0m \u001b[0mSubClass1\u001b[0m\u001b[1;33m(\u001b[0m\u001b[0mSuperClass\u001b[0m\u001b[1;33m)\u001b[0m\u001b[1;33m:\u001b[0m\u001b[1;33m\u001b[0m\u001b[1;33m\u001b[0m\u001b[0m\n\u001b[0m\u001b[0;32m     33\u001b[0m \u001b[1;33m\u001b[0m\u001b[0m\n\u001b[0;32m     34\u001b[0m     \u001b[1;32mdef\u001b[0m \u001b[0mmethod\u001b[0m\u001b[1;33m(\u001b[0m\u001b[0mself\u001b[0m\u001b[1;33m)\u001b[0m\u001b[1;33m:\u001b[0m \u001b[1;31m# <-- overriding a final method\u001b[0m\u001b[1;33m\u001b[0m\u001b[1;33m\u001b[0m\u001b[0m\n",
      "\u001b[1;32m~\\AppData\\Local\\Continuum\\anaconda3\\envs\\basic\\lib\\site-packages\\overrides\\enforce.py\u001b[0m in \u001b[0;36m__new__\u001b[1;34m(mcls, name, bases, namespace, **kwargs)\u001b[0m\n\u001b[0;32m     17\u001b[0m                     \u001b[1;32mcontinue\u001b[0m\u001b[1;33m\u001b[0m\u001b[1;33m\u001b[0m\u001b[0m\n\u001b[0;32m     18\u001b[0m                 \u001b[1;32massert\u001b[0m \u001b[0mis_override\u001b[0m\u001b[1;33m,\u001b[0m\u001b[0;31m \u001b[0m\u001b[0;31m\\\u001b[0m\u001b[1;33m\u001b[0m\u001b[1;33m\u001b[0m\u001b[0m\n\u001b[1;32m---> 19\u001b[1;33m                     \u001b[1;34m'Method %s overrides but does not have @overrides decorator'\u001b[0m \u001b[1;33m%\u001b[0m \u001b[1;33m(\u001b[0m\u001b[0mname\u001b[0m\u001b[1;33m)\u001b[0m\u001b[1;33m\u001b[0m\u001b[1;33m\u001b[0m\u001b[0m\n\u001b[0m\u001b[0;32m     20\u001b[0m                 \u001b[1;31m# `__finalized__` is added by `@final` decorator\u001b[0m\u001b[1;33m\u001b[0m\u001b[1;33m\u001b[0m\u001b[1;33m\u001b[0m\u001b[0m\n\u001b[0;32m     21\u001b[0m                 \u001b[1;32massert\u001b[0m \u001b[1;32mnot\u001b[0m \u001b[0mgetattr\u001b[0m\u001b[1;33m(\u001b[0m\u001b[0mbase_class_method\u001b[0m\u001b[1;33m,\u001b[0m \u001b[1;34m'__finalized__'\u001b[0m\u001b[1;33m,\u001b[0m \u001b[1;32mFalse\u001b[0m\u001b[1;33m)\u001b[0m\u001b[1;33m,\u001b[0m\u001b[0;31m \u001b[0m\u001b[0;31m\\\u001b[0m\u001b[1;33m\u001b[0m\u001b[1;33m\u001b[0m\u001b[0m\n",
      "\u001b[1;31mAssertionError\u001b[0m: Method method overrides but does not have @overrides decorator"
     ]
    }
   ],
   "source": [
    "# Usages\n",
    "from overrides import overrides\n",
    "\n",
    "class SuperClass:\n",
    "    def method(self):\n",
    "        \"\"\"This is the doc for a method and will be shown in subclass method to0!\"\"\"\n",
    "        return 2\n",
    "    \n",
    "class SubClass(SuperClass):\n",
    "    @overrides\n",
    "    def method(self):\n",
    "        return 1\n",
    "    \n",
    "# Enforcing usage\n",
    "from overrides import EnforceOverrides, final, overrides\n",
    "class SuperClass(EnforceOverrides):\n",
    "\n",
    "    @final\n",
    "    def method(self):\n",
    "        \"\"\"This is the doc for a method and will be shown in subclass method too!\"\"\"\n",
    "        return 2\n",
    "\n",
    "    def method2(self):\n",
    "        \"\"\"This is the doc for a method and will be shown in subclass method too!\"\"\"\n",
    "        return 2\n",
    "\n",
    "    def method3(self):\n",
    "        \"\"\"This is the doc for a method and will be shown in subclass method too!\"\"\"\n",
    "        return 2\n",
    "\n",
    "# THIS FAILS\n",
    "class SubClass1(SuperClass):\n",
    "\n",
    "    def method(self): # <-- overriding a final method\n",
    "        return 1\n",
    "\n",
    "# THIS FAILS\n",
    "class SubClass2(SuperClass):\n",
    "\n",
    "    def method2(self): # <-- @overrides decorator missing\n",
    "        return 1\n",
    "\n",
    "# THIS ONE IS OK\n",
    "class SubClass3(SuperClass):\n",
    "\n",
    "    @overrides\n",
    "    def method2(self):\n",
    "        return 1"
   ]
  }
 ],
 "metadata": {
  "kernelspec": {
   "display_name": "basic",
   "language": "python",
   "name": "basic"
  },
  "language_info": {
   "codemirror_mode": {
    "name": "ipython",
    "version": 3
   },
   "file_extension": ".py",
   "mimetype": "text/x-python",
   "name": "python",
   "nbconvert_exporter": "python",
   "pygments_lexer": "ipython3",
   "version": "3.6.9"
  }
 },
 "nbformat": 4,
 "nbformat_minor": 2
}
